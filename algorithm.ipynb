{
 "cells": [
  {
   "cell_type": "code",
   "execution_count": 1,
   "id": "9e33e368",
   "metadata": {},
   "outputs": [],
   "source": [
    "def inner_permutation(a,b,c,d):\n",
    "    '''(a,b,c,d) -> (a,c,b,d)'''\n",
    "    return a, c, b, d\n",
    "\n",
    "def outter_permutation(a,b,c,d):\n",
    "    '''(a,b,c,d) -> (d,b,c,a)'''\n",
    "    return d, b, c, a\n",
    "\n",
    "def inversion(a,b,c,d):\n",
    "    '''(a,b,c,d) -> (b,a,d,c)'''\n",
    "    return b,a,d,c\n",
    "\n",
    "def reorder(a, b, c, d):\n",
    "\n",
    "    #change of signs\n",
    "    if sum(x<0 for x in [a, b, c, d])>=3:\n",
    "        a, b, c, d = -a, -b, -c, -d\n",
    "    if a > d:\n",
    "        a, b, c, d = outter_permutation(a,b,c,d)\n",
    "    if b > c:\n",
    "        a, b, c, d = inner_permutation(a,b,c,d)\n",
    "    if b<a:\n",
    "        a, b, c, d = inversion(a, b, c, d)\n",
    "    return a, b, c, d"
   ]
  },
  {
   "cell_type": "markdown",
   "id": "b3adbc4a",
   "metadata": {},
   "source": [
    "### Examples"
   ]
  },
  {
   "cell_type": "code",
   "execution_count": 19,
   "id": "4a7d80c3",
   "metadata": {},
   "outputs": [
    {
     "data": {
      "text/plain": [
       "(-1, 1, 3, 2)"
      ]
     },
     "execution_count": 19,
     "metadata": {},
     "output_type": "execute_result"
    }
   ],
   "source": [
    "#case (iii)\n",
    "reorder(1, -1, 2, 3)"
   ]
  },
  {
   "cell_type": "code",
   "execution_count": 20,
   "id": "b2e31f0c",
   "metadata": {},
   "outputs": [
    {
     "data": {
      "text/plain": [
       "(-3, 1, 4, 2)"
      ]
     },
     "execution_count": 20,
     "metadata": {},
     "output_type": "execute_result"
    }
   ],
   "source": [
    "#case (v)\n",
    "reorder(1, 2, -3, 4)"
   ]
  },
  {
   "cell_type": "code",
   "execution_count": 21,
   "id": "07578982",
   "metadata": {},
   "outputs": [
    {
     "data": {
      "text/plain": [
       "(-3, -1, 4, 2)"
      ]
     },
     "execution_count": 21,
     "metadata": {},
     "output_type": "execute_result"
    }
   ],
   "source": [
    "#case (vi)\n",
    "reorder(-1, 2, -3, 4)"
   ]
  },
  {
   "cell_type": "code",
   "execution_count": 23,
   "id": "75270ebc",
   "metadata": {},
   "outputs": [
    {
     "data": {
      "text/plain": [
       "(-4, 2, 3, 1)"
      ]
     },
     "execution_count": 23,
     "metadata": {},
     "output_type": "execute_result"
    }
   ],
   "source": [
    "#case (viii)\n",
    "reorder(-1, -2, -3, 4)"
   ]
  },
  {
   "cell_type": "code",
   "execution_count": 25,
   "id": "1e4058e3",
   "metadata": {},
   "outputs": [
    {
     "data": {
      "text/plain": [
       "(1, 2, 3, 4)"
      ]
     },
     "execution_count": 25,
     "metadata": {},
     "output_type": "execute_result"
    }
   ],
   "source": [
    "#case ----\n",
    "reorder(-1, -2, -3, -4)"
   ]
  },
  {
   "cell_type": "markdown",
   "id": "3675d09f",
   "metadata": {},
   "source": [
    "## Finding $p$"
   ]
  },
  {
   "cell_type": "code",
   "execution_count": 2,
   "id": "2933524f",
   "metadata": {},
   "outputs": [],
   "source": [
    "def mean(a:float, d:float, p:float):\n",
    "    '''Calculates the value of m_p(a,d)'''\n",
    "    if p==float(\"inf\"):\n",
    "        return a if abs(a)>abs(d) else d\n",
    "    elif p==-float(\"inf\"):\n",
    "        return a if abs(a)<abs(d) else d\n",
    "    elif p==0:\n",
    "        return 1j*(abs(a)*d)**(1/2) if a<0 else (a*d)**(1/2)\n",
    "    else:\n",
    "        return (1/2*(a**p + d**p))**(1/p)\n",
    "    \n",
    "def searching(a,b,c,d,l,u,eps,int_division=False):\n",
    "    '''Searches for values of l, and u such that if an analogy exists, its value \n",
    "       is in [l,u] with abs(u-l)<=eps.'''\n",
    "    while abs(u-l)>eps:\n",
    "        m = (l+u)//2-1 if int_division else (l+u)/2\n",
    "        if mean(a,d,m) < mean(b,c,m):\n",
    "            l = m\n",
    "        else:\n",
    "            u = m\n",
    "    return (l,u)\n",
    "    \n",
    "def case_i_set_choice(a, b, c, d):\n",
    "    '''Gives numbers l and u with m_l(-a,d)<b and m_u(-a,d)>c'''\n",
    "    l = -1\n",
    "    while mean(a,d,l) >= b:\n",
    "        l *= 2\n",
    "\n",
    "    u = 1\n",
    "    while mean(a,d,u) <= c:\n",
    "        u *= 2\n",
    "\n",
    "    return (l,u)\n",
    "\n",
    "def case_i(a, b, c, d):\n",
    "    '''0 < a < b < c, d'''\n",
    "    print(\"CASE i\")\n",
    "\n",
    "    #reordering in case the function has been called while evaluating other case\n",
    "    a, b, c, d = reorder(a, b, c, d)\n",
    "\n",
    "    assert(0<a and 0<b and 0<c and 0<d)\n",
    "\n",
    "    if a<b<c<d:\n",
    "        #Search for the solution\n",
    "        l, u = case_i_set_choice(a, b, c, d)\n",
    "        l, u = searching(a,b,c,d,l,u,10**(-8))\n",
    "\n",
    "        #testing if the solution is the nearest integer\n",
    "        l_int = int(round(l,0))\n",
    "        if mean(a,d,l_int)==mean(b,c,l_int):\n",
    "            return l_int\n",
    "        else:\n",
    "            return (l+u)/2\n",
    "        \n",
    "    else:\n",
    "        return \"Impossible\"\n",
    "\n",
    "def case_ii(a, b, c, d):\n",
    "    '''a < 0 < b, c, d'''\n",
    "    print(\"CASE ii\")\n",
    "\n",
    "    assert(a<0<b<c and d>0)\n",
    "    \n",
    "    if d < b:\n",
    "        return case_ii_a(a, b, c, d)\n",
    "            \n",
    "    elif b<d<c:\n",
    "        return case_ii_b(a, b, c, d)\n",
    "        \n",
    "    else:\n",
    "        return case_ii_c(a, b, c, d)\n",
    "    \n",
    "def case_ii_a_set_choice(a, b, c, d):\n",
    "    '''Gives an odd number l such that m_l(a,d)<m_l(b,c)'''\n",
    "    l = -2\n",
    "    while mean(a,d,l) >= mean(b,c,l):\n",
    "        l *= 2\n",
    "    return l-1 # so that the number is odd\n",
    "            \n",
    "def case_ii_a(a, b, c, d):\n",
    "    '''a < 0 < d < b < c'''\n",
    "    print(\"CASE ii a\")\n",
    "\n",
    "    assert(a<0<d<b<c)\n",
    "\n",
    "    if a>c:\n",
    "        # searching for even solution\n",
    "        p = case_i(abs(a), b, c, d)\n",
    "        if type(p)!=str:\n",
    "            p = int(round(p,0))\n",
    "            if p%2==0 and p!=0 and mean(a,d,p)==mean(b,c,p):\n",
    "                return p\n",
    "    \n",
    "    if a>d and mean(a,d,-1) >= mean(b,c,-1):\n",
    "        # searching for negative odd solution\n",
    "        l = case_ii_a_set_choice(a, b, c, d)\n",
    "        u = -1\n",
    "        l, u = searching(a,b,c,d,l,u,2,True)\n",
    "\n",
    "        if mean(a,d,l) == mean(b,c,l):\n",
    "            return l\n",
    "        elif mean(a,d,u) == mean(b,c,u):\n",
    "            return u\n",
    "        \n",
    "    return \"Impossible\"\n",
    "\n",
    "def case_ii_b(a, b, c, d):\n",
    "    '''a < 0 < b < d < c'''\n",
    "    print(\"CASE ii b\")\n",
    "\n",
    "    assert(a<0<b<d<c)\n",
    "\n",
    "    if b<abs(a)<c:\n",
    "        # searching for even solution\n",
    "        p = case_i(abs(a), b, c, d)\n",
    "        if type(p)!=str:\n",
    "            p = int(round(p,0))\n",
    "            if p%2==0 and p!=0 and mean(a,d,p)==mean(b,c,p):\n",
    "                return p\n",
    "    \n",
    "    return \"Impossible\"\n",
    "    \n",
    "def case_ii_c_set_choice(a, b, c, d):\n",
    "    '''Gives number u such that m_u(a,d)>m_u(b,c)'''\n",
    "    u = 2\n",
    "    while mean(a,d,u) <= mean(b,c,u):\n",
    "        u *= 2\n",
    "    return u+1 # so that the number is odd\n",
    "    \n",
    "def case_ii_c(a, b, c, d):\n",
    "        '''a < 0 < b < c < d'''\n",
    "        print(\"CASE ii c\")\n",
    "\n",
    "        assert(a<0<b<c<d)\n",
    "\n",
    "        if abs(a)<b:\n",
    "            # searching for even solution\n",
    "            p = case_i(abs(a), b, c, d)\n",
    "            if type(p)!=str:            \n",
    "                p = int(round(p,0))\n",
    "                if p%2==0 and p!=0 and mean(a,d,p)==mean(b,c,p):\n",
    "                    return p\n",
    "        \n",
    "        if abs(a)<d and mean(a,d,1) <= mean(b,c,1):\n",
    "            # Searching for positive odd solution\n",
    "            l = 1\n",
    "            u = case_ii_c_set_choice(a, b, c, d)\n",
    "\n",
    "            l, u = searching(a,b,c,d,l,u,2,True)\n",
    "\n",
    "            if mean(a,d,l) == mean(b,c,l):\n",
    "                return l\n",
    "            elif mean(a,d,u) == mean(b,c,u):\n",
    "                return u\n",
    "        \n",
    "        return \"Impossible\"\n",
    "\n",
    "def case_iv(a, b, c, d):\n",
    "    '''a < b < 0 < c, d'''\n",
    "    print(\"CASE iv\")\n",
    "\n",
    "    assert(a<0 and b<0 and c>0 and d>0)\n",
    "    \n",
    "    if a<c and b<d<c:\n",
    "        p = case_i(abs(a), abs(b), c, d)\n",
    "        if type(p)!=str:\n",
    "            p = int(round(p,0))\n",
    "            if p%2==0 and p!=0 and mean(a,d,p)==mean(b,c,p):\n",
    "                return p\n",
    "    \n",
    "    return \"Impossible\"\n",
    "\n",
    "def case_vii(a, b, c, d):\n",
    "    '''a < d < 0 b < c'''\n",
    "    print(\"CASE vii\")\n",
    "\n",
    "    p = case_i(abs(a), b, c, abs(d))\n",
    "    if type(p)!=str:\n",
    "            p = int(round(p,0))\n",
    "            if p%2==0 and p!=0 and mean(a,d,p)==mean(b,c,p):\n",
    "                return p\n",
    "    \n",
    "    return \"Impossible\"\n",
    "\n",
    "def distribution(a, b, c, d):\n",
    "    if a>0 and b>0 and c>0 and d>0:\n",
    "        return case_i(a, b, c, d)\n",
    "    \n",
    "    elif a<0 and b>0 and c>0 and d>0:\n",
    "        return case_ii(a, b, c, d)\n",
    "    \n",
    "    elif a<0 and b<0 and c>0 and d>0:\n",
    "        return case_iv(a, b, c, d)\n",
    "    \n",
    "    elif a<0 and b>0 and c>0 and d<0:\n",
    "        return case_vii(a, b, c, d)\n",
    "    \n",
    "    else:\n",
    "        print(\"Something went wrong.\")\n",
    "        return"
   ]
  },
  {
   "cell_type": "code",
   "execution_count": 7,
   "id": "cc336501",
   "metadata": {},
   "outputs": [],
   "source": [
    "def main(numb):\n",
    "    numbers_list = numb.split(' ')\n",
    "    a_, b_, c_, d_ = list(map(int, numbers_list))\n",
    "    print(\"ORIGINAL \", a_, b_, c_, d_)\n",
    "\n",
    "    a, b, c, d = reorder(a_, b_, c_, d_)\n",
    "    print(\"REORDERED\", a, b, c, d)\n",
    "\n",
    "    for p in [-float(\"inf\"), 0, float(\"inf\")]:\n",
    "        if mean(a,d,p) == mean(b,c,p):\n",
    "            print(f'CASE p={p}')\n",
    "            return p\n",
    "\n",
    "    return distribution(a, b, c, d)"
   ]
  },
  {
   "cell_type": "markdown",
   "id": "58107ad5",
   "metadata": {},
   "source": [
    "## Tests"
   ]
  },
  {
   "cell_type": "code",
   "execution_count": 113,
   "id": "53956742",
   "metadata": {},
   "outputs": [
    {
     "name": "stdout",
     "output_type": "stream",
     "text": [
      "ORIGINAL  -1 4 7 8\n",
      "REORDERED -1 4 7 8\n",
      "CASE ii\n",
      "CASE ii c\n",
      "CASE i\n"
     ]
    },
    {
     "data": {
      "text/plain": [
       "2"
      ]
     },
     "execution_count": 113,
     "metadata": {},
     "output_type": "execute_result"
    }
   ],
   "source": [
    "main('-1 4 7 8')"
   ]
  },
  {
   "cell_type": "code",
   "execution_count": 114,
   "id": "4972f730",
   "metadata": {},
   "outputs": [
    {
     "name": "stdout",
     "output_type": "stream",
     "text": [
      "ORIGINAL  -1 1 4 2\n",
      "REORDERED -1 1 4 2\n",
      "CASE ii\n",
      "CASE ii b\n"
     ]
    },
    {
     "data": {
      "text/plain": [
       "'Impossible'"
      ]
     },
     "execution_count": 114,
     "metadata": {},
     "output_type": "execute_result"
    }
   ],
   "source": [
    "main('-1 1 4 2')"
   ]
  },
  {
   "cell_type": "code",
   "execution_count": 116,
   "id": "8741f215",
   "metadata": {},
   "outputs": [
    {
     "name": "stdout",
     "output_type": "stream",
     "text": [
      "ORIGINAL  -1 1 2 4\n",
      "REORDERED -1 1 2 4\n",
      "CASE ii\n",
      "CASE ii c\n"
     ]
    },
    {
     "data": {
      "text/plain": [
       "1"
      ]
     },
     "execution_count": 116,
     "metadata": {},
     "output_type": "execute_result"
    }
   ],
   "source": [
    "main('-1 1 2 4')"
   ]
  },
  {
   "cell_type": "code",
   "execution_count": 126,
   "id": "acc48d24",
   "metadata": {},
   "outputs": [
    {
     "name": "stdout",
     "output_type": "stream",
     "text": [
      "ORIGINAL  -1 2 3 1\n",
      "REORDERED -1 2 3 1\n",
      "CASE ii\n",
      "CASE ii a\n"
     ]
    },
    {
     "data": {
      "text/plain": [
       "'Impossible'"
      ]
     },
     "execution_count": 126,
     "metadata": {},
     "output_type": "execute_result"
    }
   ],
   "source": [
    "main('-1 2 3 1')"
   ]
  },
  {
   "cell_type": "code",
   "execution_count": 117,
   "id": "64b822aa",
   "metadata": {},
   "outputs": [
    {
     "name": "stdout",
     "output_type": "stream",
     "text": [
      "ORIGINAL  -3 -1 2 4\n",
      "REORDERED -3 -1 2 4\n",
      "CASE iv\n"
     ]
    },
    {
     "data": {
      "text/plain": [
       "'Impossible'"
      ]
     },
     "execution_count": 117,
     "metadata": {},
     "output_type": "execute_result"
    }
   ],
   "source": [
    "main('-3 -1 2 4')"
   ]
  },
  {
   "cell_type": "code",
   "execution_count": 118,
   "id": "1bb595c6",
   "metadata": {},
   "outputs": [
    {
     "name": "stdout",
     "output_type": "stream",
     "text": [
      "ORIGINAL  -4 -1 8 7\n",
      "REORDERED -4 -1 8 7\n",
      "CASE iv\n",
      "CASE i\n"
     ]
    },
    {
     "data": {
      "text/plain": [
       "2"
      ]
     },
     "execution_count": 118,
     "metadata": {},
     "output_type": "execute_result"
    }
   ],
   "source": [
    "main('-4 -1 8 7')"
   ]
  },
  {
   "cell_type": "code",
   "execution_count": 119,
   "id": "86cecbaf",
   "metadata": {},
   "outputs": [
    {
     "name": "stdout",
     "output_type": "stream",
     "text": [
      "ORIGINAL  -8 -4 -7 -1\n",
      "REORDERED 1 4 7 8\n",
      "CASE i\n"
     ]
    },
    {
     "data": {
      "text/plain": [
       "2"
      ]
     },
     "execution_count": 119,
     "metadata": {},
     "output_type": "execute_result"
    }
   ],
   "source": [
    "main('-8 -4 -7 -1')"
   ]
  },
  {
   "cell_type": "code",
   "execution_count": 124,
   "id": "cbf1316b",
   "metadata": {},
   "outputs": [
    {
     "name": "stdout",
     "output_type": "stream",
     "text": [
      "ORIGINAL  1 2 5 7\n",
      "REORDERED 1 2 5 7\n",
      "CASE i\n"
     ]
    },
    {
     "data": {
      "text/plain": [
       "0.5077679185196757"
      ]
     },
     "execution_count": 124,
     "metadata": {},
     "output_type": "execute_result"
    }
   ],
   "source": [
    "main('1 2 5 7')"
   ]
  },
  {
   "cell_type": "code",
   "execution_count": 8,
   "id": "dd70d499",
   "metadata": {},
   "outputs": [
    {
     "name": "stdout",
     "output_type": "stream",
     "text": [
      "ORIGINAL  -1 -2 3 6\n",
      "REORDERED -2 -1 6 3\n",
      "CASE p=0\n"
     ]
    },
    {
     "data": {
      "text/plain": [
       "0"
      ]
     },
     "execution_count": 8,
     "metadata": {},
     "output_type": "execute_result"
    }
   ],
   "source": [
    "main('-1 -2 3 6')"
   ]
  },
  {
   "cell_type": "code",
   "execution_count": 10,
   "id": "52fcec0a",
   "metadata": {},
   "outputs": [
    {
     "name": "stdout",
     "output_type": "stream",
     "text": [
      "ORIGINAL  -1 -2 6 6\n",
      "REORDERED -2 -1 6 6\n",
      "CASE p=inf\n"
     ]
    },
    {
     "data": {
      "text/plain": [
       "inf"
      ]
     },
     "execution_count": 10,
     "metadata": {},
     "output_type": "execute_result"
    }
   ],
   "source": [
    "main('-1 -2 6 6')"
   ]
  },
  {
   "cell_type": "code",
   "execution_count": 11,
   "id": "62236229",
   "metadata": {},
   "outputs": [
    {
     "name": "stdout",
     "output_type": "stream",
     "text": [
      "ORIGINAL  -1 -1 3 5\n",
      "REORDERED -1 -1 3 5\n",
      "CASE p=-inf\n"
     ]
    },
    {
     "data": {
      "text/plain": [
       "-inf"
      ]
     },
     "execution_count": 11,
     "metadata": {},
     "output_type": "execute_result"
    }
   ],
   "source": [
    "main('-1 -1 3 5')"
   ]
  }
 ],
 "metadata": {
  "kernelspec": {
   "display_name": "Python 3",
   "language": "python",
   "name": "python3"
  },
  "language_info": {
   "codemirror_mode": {
    "name": "ipython",
    "version": 3
   },
   "file_extension": ".py",
   "mimetype": "text/x-python",
   "name": "python",
   "nbconvert_exporter": "python",
   "pygments_lexer": "ipython3",
   "version": "3.12.7"
  }
 },
 "nbformat": 4,
 "nbformat_minor": 5
}
